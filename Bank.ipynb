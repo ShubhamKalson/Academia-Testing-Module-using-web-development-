{
  "cells": [
    {
      "cell_type": "markdown",
      "metadata": {
        "id": "view-in-github",
        "colab_type": "text"
      },
      "source": [
        "<a href=\"https://colab.research.google.com/github/ShubhamKalson/Academia-Testing-Module-using-web-development-/blob/main/Bank.ipynb\" target=\"_parent\"><img src=\"https://colab.research.google.com/assets/colab-badge.svg\" alt=\"Open In Colab\"/></a>"
      ]
    },
    {
      "cell_type": "code",
      "execution_count": 30,
      "metadata": {
        "colab": {
          "base_uri": "https://localhost:8080/"
        },
        "id": "jBN3rYJbPt8V",
        "outputId": "4d9c7aab-ffcd-4c46-a21f-5a5583a0e117"
      },
      "outputs": [
        {
          "output_type": "stream",
          "name": "stdout",
          "text": [
            "Drive already mounted at /content/drive; to attempt to forcibly remount, call drive.mount(\"/content/drive\", force_remount=True).\n"
          ]
        }
      ],
      "source": [
        "import os, time,sqlite3,random\n",
        "from google.colab import drive\n",
        "drive.mount('/content/drive')"
      ]
    },
    {
      "cell_type": "code",
      "execution_count": 31,
      "metadata": {
        "colab": {
          "base_uri": "https://localhost:8080/"
        },
        "id": "vQWT3c4jP7eF",
        "outputId": "d027715e-783d-4981-9594-a1b1f37f3b81"
      },
      "outputs": [
        {
          "output_type": "stream",
          "name": "stdout",
          "text": [
            "/content/drive/MyDrive/BankDatabase\n"
          ]
        },
        {
          "output_type": "execute_result",
          "data": {
            "text/plain": [
              "<sqlite3.Cursor at 0x7ec0241d5e40>"
            ]
          },
          "metadata": {},
          "execution_count": 31
        }
      ],
      "source": [
        "%cd /content/drive/MyDrive/BankDatabase\n",
        "\n",
        "conn = sqlite3.connect(\"mydatabase.db\")\n",
        "cursor = conn.cursor()\n",
        "\n",
        "cursor.execute('''\n",
        "CREATE TABLE IF NOT EXISTS Bank_Database(\n",
        "    Account_Number INTEGER PRIMARY KEY,\n",
        "    User_Name VARCHAR2(20) NOT NULL,\n",
        "    User_Balance INTEGER NOT NULL,\n",
        "    User_Phone INTEGER NOT NULL,\n",
        "    User_Pin INTEGER NOT NULL,\n",
        "    User_LoginName VARCHAR2(20) NOT NULL,\n",
        "    User_Password VARCHAR2(20) NOT NULL\n",
        ");\n",
        "''')\n"
      ]
    },
    {
      "cell_type": "code",
      "execution_count": 32,
      "metadata": {
        "id": "CnPbLsbdP91b"
      },
      "outputs": [],
      "source": [
        "def CreateAccount():\n",
        "\n",
        "    os.system(\"clear\")\n",
        "    try:\n",
        "        UserAccountNumber = random.randint(1000000, 9999999)\n",
        "        UserName = str(input(\"Enter your Name: \"))\n",
        "        UserBalance = int(input(\"Enter your Balance: \"))\n",
        "        UserPhone = int(input(\"Enter your Phone Number: \"))\n",
        "        UserPin = int(input(\"Enter your Pin: \"))\n",
        "        UserLoginName = str(input(\"Enter your UserName: \"))\n",
        "        UserPassword = str(input(\"Enter your Password: \"))\n",
        "\n",
        "        if cursor.execute('''\n",
        "        INSERT INTO Bank_Database(Account_Number,User_Name,User_Balance,User_Phone,User_Pin,User_LoginName,User_Password) VALUES(?,?,?,?,?,?,?)\n",
        "        ''',(UserAccountNumber,UserName,UserBalance,UserPhone,UserPin,UserLoginName,UserPassword)):\n",
        "            time.sleep(2)\n",
        "            print(\"\\nAccount created successfully\")\n",
        "            print(\"Login Now\")\n",
        "            conn.commit()\n",
        "        else :\n",
        "            print(\"\\nAccount not created\")\n",
        "            print(\"Try Again later\")\n",
        "        time.sleep(5)\n",
        "        Exit()\n",
        "    except Exception as e:\n",
        "      print(\"Invalid enteries try again\")\n",
        ""
      ]
    },
    {
      "cell_type": "code",
      "execution_count": 43,
      "metadata": {
        "id": "Bm4AEv8xQBOu"
      },
      "outputs": [],
      "source": [
        "def Login():\n",
        "   try:\n",
        "      os.system(\"clear\")\n",
        "      UserLogin = str(input(\"\\nEnter your UserName: \"))\n",
        "      UserPass = str(input(\"Enter your Password: \"))\n",
        "\n",
        "      query = \"SELECT User_Password FROM Bank_Database WHERE User_LoginName = ?\"\n",
        "      cursor.execute(query, (UserLogin,))\n",
        "\n",
        "      Check_Password = cursor.fetchone()\n",
        "      if Check_Password:\n",
        "        if cursor.execute(\"SELECT Account_Number from Bank_Database where User_Password = ? \",Check_Password):\n",
        "            Account_No=cursor.fetchone()\n",
        "            time.sleep(2)\n",
        "            time.sleep(1)\n",
        "            os.system(\"clear\")\n",
        "            print(\"\\nWelcome to our Bank\")\n",
        "            value = int(\n",
        "                input(\"1. Money Transfer \\n2. Check Balance \\n3. Show Profile \\n4. Deposit Amount \\n5. Logout \\nEnter Your Choice: \"))\n",
        "            if value == 1:\n",
        "                print(\"\\nKindly Enter The Details\")\n",
        "                MoneyTransfer(Account_No)\n",
        "            elif value == 2:\n",
        "                CheckBalance(Account_No)\n",
        "            elif value == 3:\n",
        "                Profile(Account_No)\n",
        "            elif value == 4:\n",
        "                deposit(Account_No)\n",
        "            elif value == 5:\n",
        "                os.system(\"clear\")\n",
        "                os.system(\"python3 menu.py\")\n",
        "            else:\n",
        "                print(\"Invalid Entry\")\n",
        "                time.sleep(3)\n",
        "      else:\n",
        "          print(\"Invalid UserName or Password\")\n",
        "          time.sleep(3)\n",
        "          os.system(\"clear\")\n",
        "          Login()\n",
        "\n",
        "   except Exception as e:\n",
        "      print(\"An error occurred. Please try again\")"
      ]
    },
    {
      "cell_type": "code",
      "execution_count": 34,
      "metadata": {
        "id": "ZhwMAd7XQFmK"
      },
      "outputs": [],
      "source": [
        "def MoneyTransfer(ANumber):\n",
        "  try :\n",
        "      AccountNumber=ANumber[0]\n",
        "      # print(AccountNumber)\n",
        "      # print(type(AccountNumber))\n",
        "      os.system(\"clear\")\n",
        "      RecAccount = int(input(\"Enter Receiver's Account Number: \"))\n",
        "      Amount = int(input(\"Enter Amount: \"))\n",
        "      Pin = int(input(\"Enter your Pin: \"))\n",
        "      cursor.execute(\"SELECT Account_Number,User_Pin,User_Balance from Bank_Database where Account_Number = ? \",ANumber)\n",
        "      result=cursor.fetchone()\n",
        "      oldBal1=result[2]\n",
        "      newBal1=oldBal1-Amount\n",
        "      # print(type(newBal1))\n",
        "      # print(newBal1)\n",
        "\n",
        "      cursor.execute(\"SELECT User_Balance from Bank_Database where Account_Number = {} \".format(RecAccount))\n",
        "      result1=cursor.fetchone()\n",
        "      oldBal=result1[0]\n",
        "      newBal=oldBal+Amount\n",
        "      # print(newBal)\n",
        "\n",
        "      if (Pin == result[1]) and (newBal1 > 0) :\n",
        "          cursor.execute(\"UPDATE Bank_Database set User_Balance = {} where Account_Number = {} \".format(newBal,RecAccount))\n",
        "          cursor.execute(\"UPDATE Bank_Database set User_Balance = {} where Account_Number = {} \".format(newBal1,AccountNumber))\n",
        "          conn.commit()\n",
        "          print(\"Amount Transfered Successfully.\")\n",
        "          Login()\n",
        "      else:\n",
        "          print(\"Incorrect PIN or insufficient funds\")\n",
        "          time.sleep(3)\n",
        "          MoneyTransfer(ANumber)\n",
        "  except Exception as e:\n",
        "    print(\"An error occurred. Please try again\")\n",
        "\n"
      ]
    },
    {
      "cell_type": "code",
      "execution_count": 35,
      "metadata": {
        "id": "YENzU1yRQH8o"
      },
      "outputs": [],
      "source": [
        "def CheckBalance(ANumber):\n",
        "    cursor.execute(\"SELECT Account_Number,User_Balance from Bank_Database where Account_Number = ? \",ANumber)\n",
        "    result=cursor.fetchone()\n",
        "    os.system(\"clear\")\n",
        "    AccNumber = result[0]\n",
        "    UserBalance = result[1]\n",
        "    print(\"\\nAccount Number :\", AccNumber)\n",
        "    print(\"Balance        :\", UserBalance)\n",
        "    time.sleep(3)\n",
        "    Login()\n"
      ]
    },
    {
      "cell_type": "code",
      "execution_count": 36,
      "metadata": {
        "id": "2E_xNelOQJer"
      },
      "outputs": [],
      "source": [
        "def Profile(ANumber):\n",
        "    cursor.execute(\"SELECT * from Bank_Database where Account_Number = ? \",ANumber)\n",
        "    result=cursor.fetchone()\n",
        "    print(\"Account Number :\", result[0])\n",
        "    print(\"User Name      :\", result[1])\n",
        "    print(\"Balance        :\", result[2])\n",
        "    print(\"Phone Number   :\", result[3])\n",
        "    print(\"PIN            :\", result[4])\n",
        "    print(\"User Name      :\", result[5])\n",
        "    print(\"Password       :\", result[6])\n",
        "    value = int(input(\"Press 1 to exit \"))\n",
        "    if value==1:\n",
        "      Exit()\n",
        "    else: print(\"Invalid entry\")\n",
        "\n"
      ]
    },
    {
      "cell_type": "code",
      "source": [
        "def deposit(ANumber):\n",
        " try:\n",
        "  Deposit_Amount = int(input(\"\\nEnter Amount to be deposited : \"))\n",
        "  cursor.execute(\"SELECT User_Balance from Bank_Database where Account_Number = ? \",ANumber)\n",
        "  result=cursor.fetchone()\n",
        "  newBal=result[0]+Deposit_Amount\n",
        "  Account_Number=ANumber[0]\n",
        "  print(\"Previous Balance is :\",result[0])\n",
        "  print(\"Updated Balance is :\",newBal)\n",
        "  if cursor.execute(\"UPDATE Bank_Database SET User_Balance = ? WHERE Account_Number = ?\", (newBal, Account_Number)):\n",
        "      print(\"Money deposited successfully\")\n",
        "      conn.commit()\n",
        "      Login()\n",
        "  else :\n",
        "      print(\"Try again\")\n",
        " except Exception as e:\n",
        "    print(\"An error occurred. Please try again\")\n",
        "\n"
      ],
      "metadata": {
        "id": "K3TeaBtauygV"
      },
      "execution_count": 37,
      "outputs": []
    },
    {
      "cell_type": "code",
      "execution_count": 38,
      "metadata": {
        "id": "b8aGLsZJQLP4"
      },
      "outputs": [],
      "source": [
        "def Exit():\n",
        "    os.system(\"clear\")\n",
        "    os.system(\"python3 menu.py\")\n"
      ]
    },
    {
      "cell_type": "code",
      "execution_count": 42,
      "metadata": {
        "colab": {
          "base_uri": "https://localhost:8080/"
        },
        "id": "ibVqRYl1QP_7",
        "outputId": "14101aed-79ba-46f3-ec34-ceb5e144d642"
      },
      "outputs": [
        {
          "name": "stdout",
          "output_type": "stream",
          "text": [
            "1. Create new Account \n",
            "2. Login \n",
            "3. Exit \n",
            "Enter your Choice: 2\n",
            "\n",
            "Kindly Enter The Details\n",
            "\n",
            "Enter your UserName: shubham\n",
            "Enter your Password: qwerty\n",
            "\n",
            "Welcome User\n",
            "1. Money Transfer \n",
            "2. Check Balance \n",
            "3. Show Profile \n",
            "4. Deposit Amount \n",
            "5. Logout \n",
            "Enter Your Choice: 1\n",
            "\n",
            "Kindly Enter The Details\n",
            "Enter Receiver's Account Number: 1227429\n",
            "Enter Amount: 1000\n",
            "Enter your Pin: 6191\n",
            "Amount Transfered Successfully.\n",
            "\n",
            "Enter your UserName: shubham\n",
            "Enter your Password: qwerty\n",
            "\n",
            "Welcome User\n",
            "1. Money Transfer \n",
            "2. Check Balance \n",
            "3. Show Profile \n",
            "4. Deposit Amount \n",
            "5. Logout \n",
            "Enter Your Choice: 2\n",
            "\n",
            "Account Number : 8127992\n",
            "Balance        : 9000\n",
            "\n",
            "Enter your UserName: kartikey\n",
            "Enter your Password: 123456\n",
            "\n",
            "Welcome User\n",
            "1. Money Transfer \n",
            "2. Check Balance \n",
            "3. Show Profile \n",
            "4. Deposit Amount \n",
            "5. Logout \n",
            "Enter Your Choice: 2\n",
            "\n",
            "Account Number : 1227429\n",
            "Balance        : 17000\n",
            "\n",
            "Enter your UserName: shubham\n",
            "Enter your Password: qwerty\n",
            "\n",
            "Welcome User\n",
            "1. Money Transfer \n",
            "2. Check Balance \n",
            "3. Show Profile \n",
            "4. Deposit Amount \n",
            "5. Logout \n",
            "Enter Your Choice: 5\n"
          ]
        }
      ],
      "source": [
        "try :\n",
        "    value = int(input(\"1. Create new Account \\n2. Login \\n3. Exit \\nEnter your Choice: \"))\n",
        "    if value == 1:\n",
        "        print(\"\\nKindly Enter The Details\")\n",
        "        CreateAccount()\n",
        "    elif value == 2:\n",
        "        print(\"\\nKindly Enter The Details\")\n",
        "        Login()\n",
        "    elif value == 3:\n",
        "        os.system(\"exit\")\n",
        "    else:\n",
        "        print(\"Invalid Entry\")\n",
        "        time.sleep(3)\n",
        "        os.system(\"clear\")\n",
        "        os.system(\"python3 menu.py\")\n",
        "except Exception as e:\n",
        "  print(\"An error occurred. Please try again\")"
      ]
    }
  ],
  "metadata": {
    "colab": {
      "provenance": [],
      "authorship_tag": "ABX9TyPDZwaRVmBILcQj4PHl6jkx",
      "include_colab_link": true
    },
    "kernelspec": {
      "display_name": "Python 3",
      "name": "python3"
    },
    "language_info": {
      "name": "python"
    }
  },
  "nbformat": 4,
  "nbformat_minor": 0
}